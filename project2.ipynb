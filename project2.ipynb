{
 "cells": [
  {
   "cell_type": "markdown",
   "metadata": {},
   "source": [
    "# Analyzing Chicago Public Schools"
   ]
  },
  {
   "cell_type": "markdown",
   "metadata": {},
   "source": [
    "I chose to analyze data sorrounding a lot of public schools in the chicagoland area. The reason that I chose to analyze this in specific is because i'm fairly interested in how schools perform based on what neighborhood they are located in. I'm also from Chicago so this topic caught my eye when I was looking for topics to do this project on. I ended up finding this data set from the U.S. Governments Open Data URL. From this project I hope to get more insight in the different ways that students perform based on what school they went to and what neighborhood that school is located in."
   ]
  },
  {
   "cell_type": "markdown",
   "metadata": {},
   "source": [
    "# Section 1: Dataset"
   ]
  },
  {
   "cell_type": "code",
   "execution_count": 83,
   "metadata": {},
   "outputs": [
    {
     "name": "stdout",
     "output_type": "stream",
     "text": [
      "Shape of dataset: (566, 79)\n",
      "\n",
      "Column names: Index(['School ID', 'Name of School', 'Elementary, Middle, or High School',\n",
      "       'Street Address', 'City', 'State', 'ZIP Code', 'Phone Number', 'Link ',\n",
      "       'Network Manager', 'Collaborative Name',\n",
      "       'Adequate Yearly Progress Made? ', 'Track Schedule',\n",
      "       'CPS Performance Policy Status', 'CPS Performance Policy Level',\n",
      "       'Healthy Schools Certified?', 'Safety Icon ', 'Safety Score',\n",
      "       'Family Involvement Icon', 'Family Involvement Score',\n",
      "       'Environment Icon ', 'Environment Score', 'Instruction Icon ',\n",
      "       'Instruction Score', 'Leaders Icon ', 'Leaders Score ',\n",
      "       'Teachers Icon ', 'Teachers Score', 'Parent Engagement Icon ',\n",
      "       'Parent Engagement Score', 'Parent Environment Icon',\n",
      "       'Parent Environment Score', 'Average Student Attendance',\n",
      "       'Rate of Misconducts (per 100 students) ', 'Average Teacher Attendance',\n",
      "       'Individualized Education Program Compliance Rate ', 'Pk-2 Literacy %',\n",
      "       'Pk-2 Math %', 'Gr3-5 Grade Level Math %', 'Gr3-5 Grade Level Read % ',\n",
      "       'Gr3-5 Keep Pace Read %', 'Gr3-5 Keep Pace Math %',\n",
      "       'Gr6-8 Grade Level Math %', 'Gr6-8 Grade Level Read %',\n",
      "       'Gr6-8 Keep Pace Math%', 'Gr6-8 Keep Pace Read %',\n",
      "       'Gr-8 Explore Math %', 'Gr-8 Explore Read %', 'ISAT Exceeding Math %',\n",
      "       'ISAT Exceeding Reading % ', 'ISAT Value Add Math',\n",
      "       'ISAT Value Add Read', 'ISAT Value Add Color Math',\n",
      "       'ISAT Value Add Color Read', 'Students Taking  Algebra %',\n",
      "       'Students Passing  Algebra %', '9th Grade EXPLORE (2009) ',\n",
      "       '9th Grade EXPLORE (2010) ', '10th Grade PLAN (2009) ',\n",
      "       '10th Grade PLAN (2010) ', 'Net Change EXPLORE and PLAN',\n",
      "       '11th Grade Average ACT (2011) ', 'Net Change PLAN and ACT',\n",
      "       'College Eligibility %', 'Graduation Rate %',\n",
      "       'College Enrollment Rate %', 'College Enrollment (number of students) ',\n",
      "       'General Services Route ', 'Freshman on Track Rate %', 'RCDTS Code',\n",
      "       'X_COORDINATE', 'Y_COORDINATE', 'Latitude', 'Longitude',\n",
      "       'Community Area Number', 'Community Area Name', 'Ward',\n",
      "       'Police District', 'Location'],\n",
      "      dtype='object')\n"
     ]
    },
    {
     "data": {
      "text/html": [
       "<div>\n",
       "<style scoped>\n",
       "    .dataframe tbody tr th:only-of-type {\n",
       "        vertical-align: middle;\n",
       "    }\n",
       "\n",
       "    .dataframe tbody tr th {\n",
       "        vertical-align: top;\n",
       "    }\n",
       "\n",
       "    .dataframe thead th {\n",
       "        text-align: right;\n",
       "    }\n",
       "</style>\n",
       "<table border=\"1\" class=\"dataframe\">\n",
       "  <thead>\n",
       "    <tr style=\"text-align: right;\">\n",
       "      <th></th>\n",
       "      <th>School ID</th>\n",
       "      <th>Name of School</th>\n",
       "      <th>Elementary, Middle, or High School</th>\n",
       "      <th>Street Address</th>\n",
       "      <th>City</th>\n",
       "      <th>State</th>\n",
       "      <th>ZIP Code</th>\n",
       "      <th>Phone Number</th>\n",
       "      <th>Link</th>\n",
       "      <th>Network Manager</th>\n",
       "      <th>...</th>\n",
       "      <th>RCDTS Code</th>\n",
       "      <th>X_COORDINATE</th>\n",
       "      <th>Y_COORDINATE</th>\n",
       "      <th>Latitude</th>\n",
       "      <th>Longitude</th>\n",
       "      <th>Community Area Number</th>\n",
       "      <th>Community Area Name</th>\n",
       "      <th>Ward</th>\n",
       "      <th>Police District</th>\n",
       "      <th>Location</th>\n",
       "    </tr>\n",
       "  </thead>\n",
       "  <tbody>\n",
       "    <tr>\n",
       "      <th>0</th>\n",
       "      <td>609966</td>\n",
       "      <td>Charles G Hammond Elementary School</td>\n",
       "      <td>ES</td>\n",
       "      <td>2819 W 21st Pl</td>\n",
       "      <td>Chicago</td>\n",
       "      <td>IL</td>\n",
       "      <td>60623</td>\n",
       "      <td>(773) 535-4580</td>\n",
       "      <td>http://schoolreports.cps.edu/SchoolProgressRep...</td>\n",
       "      <td>Pilsen-Little Village Elementary Network</td>\n",
       "      <td>...</td>\n",
       "      <td>150000000000000</td>\n",
       "      <td>1157809.015</td>\n",
       "      <td>1889554.623</td>\n",
       "      <td>41.852691</td>\n",
       "      <td>-87.696278</td>\n",
       "      <td>30</td>\n",
       "      <td>SOUTH LAWNDALE</td>\n",
       "      <td>12</td>\n",
       "      <td>10</td>\n",
       "      <td>(41.85269133, -87.69627777)</td>\n",
       "    </tr>\n",
       "    <tr>\n",
       "      <th>1</th>\n",
       "      <td>610539</td>\n",
       "      <td>Marvin Camras Elementary School</td>\n",
       "      <td>ES</td>\n",
       "      <td>3000 N Mango Ave</td>\n",
       "      <td>Chicago</td>\n",
       "      <td>IL</td>\n",
       "      <td>60634</td>\n",
       "      <td>(773) 534-2960</td>\n",
       "      <td>http://schoolreports.cps.edu/SchoolProgressRep...</td>\n",
       "      <td>Fullerton Elementary Network</td>\n",
       "      <td>...</td>\n",
       "      <td>150000000000000</td>\n",
       "      <td>1137482.296</td>\n",
       "      <td>1919394.900</td>\n",
       "      <td>41.934966</td>\n",
       "      <td>-87.770165</td>\n",
       "      <td>19</td>\n",
       "      <td>BELMONT CRAGIN</td>\n",
       "      <td>30</td>\n",
       "      <td>25</td>\n",
       "      <td>(41.93496641, -87.77016525)</td>\n",
       "    </tr>\n",
       "    <tr>\n",
       "      <th>2</th>\n",
       "      <td>609852</td>\n",
       "      <td>Eliza Chappell Elementary School</td>\n",
       "      <td>ES</td>\n",
       "      <td>2135 W Foster Ave</td>\n",
       "      <td>Chicago</td>\n",
       "      <td>IL</td>\n",
       "      <td>60625</td>\n",
       "      <td>(773) 534-2390</td>\n",
       "      <td>http://schoolreports.cps.edu/SchoolProgressRep...</td>\n",
       "      <td>Ravenswood-Ridge Elementary Network</td>\n",
       "      <td>...</td>\n",
       "      <td>150000000000000</td>\n",
       "      <td>1161016.902</td>\n",
       "      <td>1934466.545</td>\n",
       "      <td>41.975867</td>\n",
       "      <td>-87.683254</td>\n",
       "      <td>4</td>\n",
       "      <td>LINCOLN SQUARE</td>\n",
       "      <td>47</td>\n",
       "      <td>20</td>\n",
       "      <td>(41.975867, -87.68325438)</td>\n",
       "    </tr>\n",
       "    <tr>\n",
       "      <th>3</th>\n",
       "      <td>609835</td>\n",
       "      <td>Daniel R Cameron Elementary School</td>\n",
       "      <td>ES</td>\n",
       "      <td>1234 N Monticello Ave</td>\n",
       "      <td>Chicago</td>\n",
       "      <td>IL</td>\n",
       "      <td>60651</td>\n",
       "      <td>(773) 534-4290</td>\n",
       "      <td>http://schoolreports.cps.edu/SchoolProgressRep...</td>\n",
       "      <td>Garfield-Humboldt Elementary Network</td>\n",
       "      <td>...</td>\n",
       "      <td>150000000000000</td>\n",
       "      <td>1151767.546</td>\n",
       "      <td>1908130.068</td>\n",
       "      <td>41.903785</td>\n",
       "      <td>-87.717963</td>\n",
       "      <td>23</td>\n",
       "      <td>HUMBOLDT PARK</td>\n",
       "      <td>26</td>\n",
       "      <td>25</td>\n",
       "      <td>(41.90378521, -87.71796315)</td>\n",
       "    </tr>\n",
       "    <tr>\n",
       "      <th>4</th>\n",
       "      <td>610521</td>\n",
       "      <td>Sir Miles Davis Magnet Elementary Academy</td>\n",
       "      <td>ES</td>\n",
       "      <td>6730 S Paulina St</td>\n",
       "      <td>Chicago</td>\n",
       "      <td>IL</td>\n",
       "      <td>60636</td>\n",
       "      <td>(773) 535-9120</td>\n",
       "      <td>http://schoolreports.cps.edu/SchoolProgressRep...</td>\n",
       "      <td>Englewood-Gresham Elementary Network</td>\n",
       "      <td>...</td>\n",
       "      <td>150000000000000</td>\n",
       "      <td>1166133.893</td>\n",
       "      <td>1859929.018</td>\n",
       "      <td>41.771222</td>\n",
       "      <td>-87.666567</td>\n",
       "      <td>67</td>\n",
       "      <td>WEST ENGLEWOOD</td>\n",
       "      <td>15</td>\n",
       "      <td>7</td>\n",
       "      <td>(41.77122181, -87.66656657)</td>\n",
       "    </tr>\n",
       "    <tr>\n",
       "      <th>...</th>\n",
       "      <td>...</td>\n",
       "      <td>...</td>\n",
       "      <td>...</td>\n",
       "      <td>...</td>\n",
       "      <td>...</td>\n",
       "      <td>...</td>\n",
       "      <td>...</td>\n",
       "      <td>...</td>\n",
       "      <td>...</td>\n",
       "      <td>...</td>\n",
       "      <td>...</td>\n",
       "      <td>...</td>\n",
       "      <td>...</td>\n",
       "      <td>...</td>\n",
       "      <td>...</td>\n",
       "      <td>...</td>\n",
       "      <td>...</td>\n",
       "      <td>...</td>\n",
       "      <td>...</td>\n",
       "      <td>...</td>\n",
       "      <td>...</td>\n",
       "    </tr>\n",
       "    <tr>\n",
       "      <th>561</th>\n",
       "      <td>610506</td>\n",
       "      <td>TEAM Englewood Community Academy High School</td>\n",
       "      <td>HS</td>\n",
       "      <td>6201 S Stewart Ave</td>\n",
       "      <td>Chicago</td>\n",
       "      <td>IL</td>\n",
       "      <td>60621</td>\n",
       "      <td>(773) 535-3530</td>\n",
       "      <td>http://schoolreports.cps.edu/SchoolProgressRep...</td>\n",
       "      <td>Southwest Side High School Network</td>\n",
       "      <td>...</td>\n",
       "      <td>150000000000000</td>\n",
       "      <td>1174730.350</td>\n",
       "      <td>1863740.125</td>\n",
       "      <td>41.781493</td>\n",
       "      <td>-87.634942</td>\n",
       "      <td>68</td>\n",
       "      <td>ENGLEWOOD</td>\n",
       "      <td>20</td>\n",
       "      <td>7</td>\n",
       "      <td>(41.7814927, -87.63494163)</td>\n",
       "    </tr>\n",
       "    <tr>\n",
       "      <th>562</th>\n",
       "      <td>610350</td>\n",
       "      <td>Robert A Black Magnet Elementary School</td>\n",
       "      <td>ES</td>\n",
       "      <td>9101 S Euclid Ave</td>\n",
       "      <td>Chicago</td>\n",
       "      <td>IL</td>\n",
       "      <td>60619</td>\n",
       "      <td>(773) 535-6390</td>\n",
       "      <td>http://schoolreports.cps.edu/SchoolProgressRep...</td>\n",
       "      <td>Skyway Elementary Network</td>\n",
       "      <td>...</td>\n",
       "      <td>150000000000000</td>\n",
       "      <td>1190807.321</td>\n",
       "      <td>1844986.038</td>\n",
       "      <td>41.729656</td>\n",
       "      <td>-87.576605</td>\n",
       "      <td>48</td>\n",
       "      <td>CALUMET HEIGHTS</td>\n",
       "      <td>8</td>\n",
       "      <td>4</td>\n",
       "      <td>(41.72965645, -87.57660534)</td>\n",
       "    </tr>\n",
       "    <tr>\n",
       "      <th>563</th>\n",
       "      <td>610154</td>\n",
       "      <td>Martin A Ryerson Elementary School</td>\n",
       "      <td>ES</td>\n",
       "      <td>646 N Lawndale Ave</td>\n",
       "      <td>Chicago</td>\n",
       "      <td>IL</td>\n",
       "      <td>60624</td>\n",
       "      <td>(773) 534-6700</td>\n",
       "      <td>http://schoolreports.cps.edu/SchoolProgressRep...</td>\n",
       "      <td>Garfield-Humboldt Elementary Network</td>\n",
       "      <td>...</td>\n",
       "      <td>150000000000000</td>\n",
       "      <td>1151558.259</td>\n",
       "      <td>1904275.283</td>\n",
       "      <td>41.893211</td>\n",
       "      <td>-87.718833</td>\n",
       "      <td>23</td>\n",
       "      <td>HUMBOLDT PARK</td>\n",
       "      <td>27</td>\n",
       "      <td>11</td>\n",
       "      <td>(41.89321142, -87.71883334)</td>\n",
       "    </tr>\n",
       "    <tr>\n",
       "      <th>564</th>\n",
       "      <td>610384</td>\n",
       "      <td>Infinity Math Science and Technology High School</td>\n",
       "      <td>HS</td>\n",
       "      <td>3120 S Kostner Ave</td>\n",
       "      <td>Chicago</td>\n",
       "      <td>IL</td>\n",
       "      <td>60623</td>\n",
       "      <td>(773) 535-4225</td>\n",
       "      <td>http://schoolreports.cps.edu/SchoolProgressRep...</td>\n",
       "      <td>West Side High School Network</td>\n",
       "      <td>...</td>\n",
       "      <td>150000000000000</td>\n",
       "      <td>1147521.302</td>\n",
       "      <td>1883405.128</td>\n",
       "      <td>41.836020</td>\n",
       "      <td>-87.734195</td>\n",
       "      <td>30</td>\n",
       "      <td>SOUTH LAWNDALE</td>\n",
       "      <td>22</td>\n",
       "      <td>10</td>\n",
       "      <td>(41.83601953, -87.73419465)</td>\n",
       "    </tr>\n",
       "    <tr>\n",
       "      <th>565</th>\n",
       "      <td>609870</td>\n",
       "      <td>Daniel J Corkery Elementary School</td>\n",
       "      <td>ES</td>\n",
       "      <td>2510 S Kildare Ave</td>\n",
       "      <td>Chicago</td>\n",
       "      <td>IL</td>\n",
       "      <td>60623</td>\n",
       "      <td>(773) 534-1650</td>\n",
       "      <td>http://schoolreports.cps.edu/SchoolProgressRep...</td>\n",
       "      <td>Pilsen-Little Village Elementary Network</td>\n",
       "      <td>...</td>\n",
       "      <td>150000000000000</td>\n",
       "      <td>1148304.879</td>\n",
       "      <td>1886901.414</td>\n",
       "      <td>41.845599</td>\n",
       "      <td>-87.731229</td>\n",
       "      <td>30</td>\n",
       "      <td>SOUTH LAWNDALE</td>\n",
       "      <td>22</td>\n",
       "      <td>10</td>\n",
       "      <td>(41.84559878, -87.73122946)</td>\n",
       "    </tr>\n",
       "  </tbody>\n",
       "</table>\n",
       "<p>566 rows × 79 columns</p>\n",
       "</div>"
      ],
      "text/plain": [
       "     School ID                                    Name of School  \\\n",
       "0       609966               Charles G Hammond Elementary School   \n",
       "1       610539                   Marvin Camras Elementary School   \n",
       "2       609852                  Eliza Chappell Elementary School   \n",
       "3       609835                Daniel R Cameron Elementary School   \n",
       "4       610521         Sir Miles Davis Magnet Elementary Academy   \n",
       "..         ...                                               ...   \n",
       "561     610506      TEAM Englewood Community Academy High School   \n",
       "562     610350           Robert A Black Magnet Elementary School   \n",
       "563     610154                Martin A Ryerson Elementary School   \n",
       "564     610384  Infinity Math Science and Technology High School   \n",
       "565     609870                Daniel J Corkery Elementary School   \n",
       "\n",
       "    Elementary, Middle, or High School          Street Address     City State  \\\n",
       "0                                   ES         2819 W 21st Pl   Chicago    IL   \n",
       "1                                   ES       3000 N Mango Ave   Chicago    IL   \n",
       "2                                   ES      2135 W Foster Ave   Chicago    IL   \n",
       "3                                   ES  1234 N Monticello Ave   Chicago    IL   \n",
       "4                                   ES      6730 S Paulina St   Chicago    IL   \n",
       "..                                 ...                     ...      ...   ...   \n",
       "561                                 HS     6201 S Stewart Ave   Chicago    IL   \n",
       "562                                 ES      9101 S Euclid Ave   Chicago    IL   \n",
       "563                                 ES     646 N Lawndale Ave   Chicago    IL   \n",
       "564                                 HS     3120 S Kostner Ave   Chicago    IL   \n",
       "565                                 ES     2510 S Kildare Ave   Chicago    IL   \n",
       "\n",
       "     ZIP Code    Phone Number  \\\n",
       "0       60623  (773) 535-4580   \n",
       "1       60634  (773) 534-2960   \n",
       "2       60625  (773) 534-2390   \n",
       "3       60651  (773) 534-4290   \n",
       "4       60636  (773) 535-9120   \n",
       "..        ...             ...   \n",
       "561     60621  (773) 535-3530   \n",
       "562     60619  (773) 535-6390   \n",
       "563     60624  (773) 534-6700   \n",
       "564     60623  (773) 535-4225   \n",
       "565     60623  (773) 534-1650   \n",
       "\n",
       "                                                 Link   \\\n",
       "0    http://schoolreports.cps.edu/SchoolProgressRep...   \n",
       "1    http://schoolreports.cps.edu/SchoolProgressRep...   \n",
       "2    http://schoolreports.cps.edu/SchoolProgressRep...   \n",
       "3    http://schoolreports.cps.edu/SchoolProgressRep...   \n",
       "4    http://schoolreports.cps.edu/SchoolProgressRep...   \n",
       "..                                                 ...   \n",
       "561  http://schoolreports.cps.edu/SchoolProgressRep...   \n",
       "562  http://schoolreports.cps.edu/SchoolProgressRep...   \n",
       "563  http://schoolreports.cps.edu/SchoolProgressRep...   \n",
       "564  http://schoolreports.cps.edu/SchoolProgressRep...   \n",
       "565  http://schoolreports.cps.edu/SchoolProgressRep...   \n",
       "\n",
       "                              Network Manager  ...       RCDTS Code  \\\n",
       "0    Pilsen-Little Village Elementary Network  ...  150000000000000   \n",
       "1                Fullerton Elementary Network  ...  150000000000000   \n",
       "2         Ravenswood-Ridge Elementary Network  ...  150000000000000   \n",
       "3        Garfield-Humboldt Elementary Network  ...  150000000000000   \n",
       "4        Englewood-Gresham Elementary Network  ...  150000000000000   \n",
       "..                                        ...  ...              ...   \n",
       "561        Southwest Side High School Network  ...  150000000000000   \n",
       "562                 Skyway Elementary Network  ...  150000000000000   \n",
       "563      Garfield-Humboldt Elementary Network  ...  150000000000000   \n",
       "564             West Side High School Network  ...  150000000000000   \n",
       "565  Pilsen-Little Village Elementary Network  ...  150000000000000   \n",
       "\n",
       "    X_COORDINATE Y_COORDINATE   Latitude  Longitude Community Area Number  \\\n",
       "0    1157809.015  1889554.623  41.852691 -87.696278                    30   \n",
       "1    1137482.296  1919394.900  41.934966 -87.770165                    19   \n",
       "2    1161016.902  1934466.545  41.975867 -87.683254                     4   \n",
       "3    1151767.546  1908130.068  41.903785 -87.717963                    23   \n",
       "4    1166133.893  1859929.018  41.771222 -87.666567                    67   \n",
       "..           ...          ...        ...        ...                   ...   \n",
       "561  1174730.350  1863740.125  41.781493 -87.634942                    68   \n",
       "562  1190807.321  1844986.038  41.729656 -87.576605                    48   \n",
       "563  1151558.259  1904275.283  41.893211 -87.718833                    23   \n",
       "564  1147521.302  1883405.128  41.836020 -87.734195                    30   \n",
       "565  1148304.879  1886901.414  41.845599 -87.731229                    30   \n",
       "\n",
       "    Community Area Name  Ward Police District                     Location  \n",
       "0        SOUTH LAWNDALE    12              10  (41.85269133, -87.69627777)  \n",
       "1        BELMONT CRAGIN    30              25  (41.93496641, -87.77016525)  \n",
       "2        LINCOLN SQUARE    47              20    (41.975867, -87.68325438)  \n",
       "3         HUMBOLDT PARK    26              25  (41.90378521, -87.71796315)  \n",
       "4        WEST ENGLEWOOD    15               7  (41.77122181, -87.66656657)  \n",
       "..                  ...   ...             ...                          ...  \n",
       "561           ENGLEWOOD    20               7   (41.7814927, -87.63494163)  \n",
       "562     CALUMET HEIGHTS     8               4  (41.72965645, -87.57660534)  \n",
       "563       HUMBOLDT PARK    27              11  (41.89321142, -87.71883334)  \n",
       "564      SOUTH LAWNDALE    22              10  (41.83601953, -87.73419465)  \n",
       "565      SOUTH LAWNDALE    22              10  (41.84559878, -87.73122946)  \n",
       "\n",
       "[566 rows x 79 columns]"
      ]
     },
     "execution_count": 83,
     "metadata": {},
     "output_type": "execute_result"
    }
   ],
   "source": [
    "import pandas as pd\n",
    "df = pd.read_csv(\"Chicago_Public_Schools_-_Progress_Report_Cards__2011-2012_.csv\")\n",
    "print(\"Shape of dataset:\", df.shape)  \n",
    "print(\"\\nColumn names:\", df.columns) \n",
    "df"
   ]
  },
  {
   "cell_type": "markdown",
   "metadata": {},
   "source": [
    "# Section 2: Exploratary Data Analysis"
   ]
  },
  {
   "cell_type": "markdown",
   "metadata": {},
   "source": [
    "There are a fair amount of things in my data set that give a broad view of my data. I think that my data size is pretty big. There are 566 rows and 79 columns included in this data set. In terms of measure of center, I could look at most of the 79 columns. Right now i'm looking at the different scores that schools got on their instruction, environment, and safety. The most interesting thing about my dataset is looking at the different types of scores that the schools are getting and seeing the correlation in the type of neighborhoods that these schools are located in."
   ]
  },
  {
   "cell_type": "markdown",
   "metadata": {},
   "source": [
    "##### Environment Involment Score"
   ]
  },
  {
   "cell_type": "code",
   "execution_count": 84,
   "metadata": {},
   "outputs": [
    {
     "data": {
      "text/html": [
       "<div>\n",
       "<style scoped>\n",
       "    .dataframe tbody tr th:only-of-type {\n",
       "        vertical-align: middle;\n",
       "    }\n",
       "\n",
       "    .dataframe tbody tr th {\n",
       "        vertical-align: top;\n",
       "    }\n",
       "\n",
       "    .dataframe thead th {\n",
       "        text-align: right;\n",
       "    }\n",
       "</style>\n",
       "<table border=\"1\" class=\"dataframe\">\n",
       "  <thead>\n",
       "    <tr style=\"text-align: right;\">\n",
       "      <th></th>\n",
       "      <th>Environment Score</th>\n",
       "    </tr>\n",
       "  </thead>\n",
       "  <tbody>\n",
       "    <tr>\n",
       "      <th>0</th>\n",
       "      <td>41.0</td>\n",
       "    </tr>\n",
       "    <tr>\n",
       "      <th>1</th>\n",
       "      <td>37.0</td>\n",
       "    </tr>\n",
       "    <tr>\n",
       "      <th>2</th>\n",
       "      <td>53.0</td>\n",
       "    </tr>\n",
       "    <tr>\n",
       "      <th>3</th>\n",
       "      <td>49.0</td>\n",
       "    </tr>\n",
       "    <tr>\n",
       "      <th>4</th>\n",
       "      <td>51.0</td>\n",
       "    </tr>\n",
       "    <tr>\n",
       "      <th>...</th>\n",
       "      <td>...</td>\n",
       "    </tr>\n",
       "    <tr>\n",
       "      <th>561</th>\n",
       "      <td>55.0</td>\n",
       "    </tr>\n",
       "    <tr>\n",
       "      <th>562</th>\n",
       "      <td>63.0</td>\n",
       "    </tr>\n",
       "    <tr>\n",
       "      <th>563</th>\n",
       "      <td>48.0</td>\n",
       "    </tr>\n",
       "    <tr>\n",
       "      <th>564</th>\n",
       "      <td>66.0</td>\n",
       "    </tr>\n",
       "    <tr>\n",
       "      <th>565</th>\n",
       "      <td>31.0</td>\n",
       "    </tr>\n",
       "  </tbody>\n",
       "</table>\n",
       "<p>566 rows × 1 columns</p>\n",
       "</div>"
      ],
      "text/plain": [
       "     Environment Score\n",
       "0                 41.0\n",
       "1                 37.0\n",
       "2                 53.0\n",
       "3                 49.0\n",
       "4                 51.0\n",
       "..                 ...\n",
       "561               55.0\n",
       "562               63.0\n",
       "563               48.0\n",
       "564               66.0\n",
       "565               31.0\n",
       "\n",
       "[566 rows x 1 columns]"
      ]
     },
     "execution_count": 84,
     "metadata": {},
     "output_type": "execute_result"
    }
   ],
   "source": [
    "analysis_EIS = df[['Environment Score']]\n",
    "analysis_EIS "
   ]
  },
  {
   "cell_type": "code",
   "execution_count": 85,
   "metadata": {},
   "outputs": [
    {
     "data": {
      "text/plain": [
       "np.float64(47.76608187134503)"
      ]
     },
     "execution_count": 85,
     "metadata": {},
     "output_type": "execute_result"
    }
   ],
   "source": [
    "EIS = df['Environment Score'].mean()\n",
    "EIS"
   ]
  },
  {
   "cell_type": "code",
   "execution_count": 86,
   "metadata": {},
   "outputs": [
    {
     "data": {
      "text/plain": [
       "np.float64(16.215584338487357)"
      ]
     },
     "execution_count": 86,
     "metadata": {},
     "output_type": "execute_result"
    }
   ],
   "source": [
    "EIS = df['Environment Score'].std()\n",
    "EIS"
   ]
  },
  {
   "cell_type": "markdown",
   "metadata": {},
   "source": [
    "##### Instruction Score"
   ]
  },
  {
   "cell_type": "code",
   "execution_count": 87,
   "metadata": {},
   "outputs": [
    {
     "data": {
      "text/html": [
       "<div>\n",
       "<style scoped>\n",
       "    .dataframe tbody tr th:only-of-type {\n",
       "        vertical-align: middle;\n",
       "    }\n",
       "\n",
       "    .dataframe tbody tr th {\n",
       "        vertical-align: top;\n",
       "    }\n",
       "\n",
       "    .dataframe thead th {\n",
       "        text-align: right;\n",
       "    }\n",
       "</style>\n",
       "<table border=\"1\" class=\"dataframe\">\n",
       "  <thead>\n",
       "    <tr style=\"text-align: right;\">\n",
       "      <th></th>\n",
       "      <th>Instruction Score</th>\n",
       "    </tr>\n",
       "  </thead>\n",
       "  <tbody>\n",
       "    <tr>\n",
       "      <th>0</th>\n",
       "      <td>43.0</td>\n",
       "    </tr>\n",
       "    <tr>\n",
       "      <th>1</th>\n",
       "      <td>41.0</td>\n",
       "    </tr>\n",
       "    <tr>\n",
       "      <th>2</th>\n",
       "      <td>51.0</td>\n",
       "    </tr>\n",
       "    <tr>\n",
       "      <th>3</th>\n",
       "      <td>50.0</td>\n",
       "    </tr>\n",
       "    <tr>\n",
       "      <th>4</th>\n",
       "      <td>54.0</td>\n",
       "    </tr>\n",
       "    <tr>\n",
       "      <th>...</th>\n",
       "      <td>...</td>\n",
       "    </tr>\n",
       "    <tr>\n",
       "      <th>561</th>\n",
       "      <td>53.0</td>\n",
       "    </tr>\n",
       "    <tr>\n",
       "      <th>562</th>\n",
       "      <td>58.0</td>\n",
       "    </tr>\n",
       "    <tr>\n",
       "      <th>563</th>\n",
       "      <td>43.0</td>\n",
       "    </tr>\n",
       "    <tr>\n",
       "      <th>564</th>\n",
       "      <td>65.0</td>\n",
       "    </tr>\n",
       "    <tr>\n",
       "      <th>565</th>\n",
       "      <td>29.0</td>\n",
       "    </tr>\n",
       "  </tbody>\n",
       "</table>\n",
       "<p>566 rows × 1 columns</p>\n",
       "</div>"
      ],
      "text/plain": [
       "     Instruction Score\n",
       "0                 43.0\n",
       "1                 41.0\n",
       "2                 51.0\n",
       "3                 50.0\n",
       "4                 54.0\n",
       "..                 ...\n",
       "561               53.0\n",
       "562               58.0\n",
       "563               43.0\n",
       "564               65.0\n",
       "565               29.0\n",
       "\n",
       "[566 rows x 1 columns]"
      ]
     },
     "execution_count": 87,
     "metadata": {},
     "output_type": "execute_result"
    }
   ],
   "source": [
    "analysis_IIS = df[['Instruction Score']]\n",
    "analysis_IIS "
   ]
  },
  {
   "cell_type": "code",
   "execution_count": 88,
   "metadata": {},
   "outputs": [
    {
     "data": {
      "text/plain": [
       "np.float64(48.28849902534113)"
      ]
     },
     "execution_count": 88,
     "metadata": {},
     "output_type": "execute_result"
    }
   ],
   "source": [
    "IIS = df['Instruction Score'].mean()\n",
    "IIS"
   ]
  },
  {
   "cell_type": "code",
   "execution_count": 89,
   "metadata": {},
   "outputs": [
    {
     "data": {
      "text/plain": [
       "np.float64(17.41717577566717)"
      ]
     },
     "execution_count": 89,
     "metadata": {},
     "output_type": "execute_result"
    }
   ],
   "source": [
    "IIS = df['Instruction Score'].std()\n",
    "IIS"
   ]
  },
  {
   "cell_type": "markdown",
   "metadata": {},
   "source": [
    "##### Safety Score"
   ]
  },
  {
   "cell_type": "code",
   "execution_count": 90,
   "metadata": {},
   "outputs": [
    {
     "data": {
      "text/html": [
       "<div>\n",
       "<style scoped>\n",
       "    .dataframe tbody tr th:only-of-type {\n",
       "        vertical-align: middle;\n",
       "    }\n",
       "\n",
       "    .dataframe tbody tr th {\n",
       "        vertical-align: top;\n",
       "    }\n",
       "\n",
       "    .dataframe thead th {\n",
       "        text-align: right;\n",
       "    }\n",
       "</style>\n",
       "<table border=\"1\" class=\"dataframe\">\n",
       "  <thead>\n",
       "    <tr style=\"text-align: right;\">\n",
       "      <th></th>\n",
       "      <th>Safety Score</th>\n",
       "    </tr>\n",
       "  </thead>\n",
       "  <tbody>\n",
       "    <tr>\n",
       "      <th>0</th>\n",
       "      <td>40.0</td>\n",
       "    </tr>\n",
       "    <tr>\n",
       "      <th>1</th>\n",
       "      <td>54.0</td>\n",
       "    </tr>\n",
       "    <tr>\n",
       "      <th>2</th>\n",
       "      <td>70.0</td>\n",
       "    </tr>\n",
       "    <tr>\n",
       "      <th>3</th>\n",
       "      <td>42.0</td>\n",
       "    </tr>\n",
       "    <tr>\n",
       "      <th>4</th>\n",
       "      <td>35.0</td>\n",
       "    </tr>\n",
       "    <tr>\n",
       "      <th>...</th>\n",
       "      <td>...</td>\n",
       "    </tr>\n",
       "    <tr>\n",
       "      <th>561</th>\n",
       "      <td>45.0</td>\n",
       "    </tr>\n",
       "    <tr>\n",
       "      <th>562</th>\n",
       "      <td>68.0</td>\n",
       "    </tr>\n",
       "    <tr>\n",
       "      <th>563</th>\n",
       "      <td>40.0</td>\n",
       "    </tr>\n",
       "    <tr>\n",
       "      <th>564</th>\n",
       "      <td>58.0</td>\n",
       "    </tr>\n",
       "    <tr>\n",
       "      <th>565</th>\n",
       "      <td>39.0</td>\n",
       "    </tr>\n",
       "  </tbody>\n",
       "</table>\n",
       "<p>566 rows × 1 columns</p>\n",
       "</div>"
      ],
      "text/plain": [
       "     Safety Score\n",
       "0            40.0\n",
       "1            54.0\n",
       "2            70.0\n",
       "3            42.0\n",
       "4            35.0\n",
       "..            ...\n",
       "561          45.0\n",
       "562          68.0\n",
       "563          40.0\n",
       "564          58.0\n",
       "565          39.0\n",
       "\n",
       "[566 rows x 1 columns]"
      ]
     },
     "execution_count": 90,
     "metadata": {},
     "output_type": "execute_result"
    }
   ],
   "source": [
    "analysis_SIS = df[['Safety Score']]\n",
    "analysis_SIS "
   ]
  },
  {
   "cell_type": "code",
   "execution_count": 91,
   "metadata": {},
   "outputs": [
    {
     "data": {
      "text/plain": [
       "np.float64(49.50487329434698)"
      ]
     },
     "execution_count": 91,
     "metadata": {},
     "output_type": "execute_result"
    }
   ],
   "source": [
    "SIS = df['Safety Score'].mean()\n",
    "SIS"
   ]
  },
  {
   "cell_type": "code",
   "execution_count": 92,
   "metadata": {},
   "outputs": [
    {
     "data": {
      "text/plain": [
       "np.float64(20.110837301959048)"
      ]
     },
     "execution_count": 92,
     "metadata": {},
     "output_type": "execute_result"
    }
   ],
   "source": [
    "SIS = df['Safety Score'].std()\n",
    "SIS"
   ]
  },
  {
   "cell_type": "markdown",
   "metadata": {},
   "source": [
    "##### Section 2: Analysis"
   ]
  },
  {
   "cell_type": "markdown",
   "metadata": {},
   "source": [
    "Getting all the data and turning into stats was a bit troubling to do with this data. In some of the columns there would be no data in a row and python would not read it as a numeric value. I noticed some similiraties in my numbers. I think that the mean in all three data sets are pretty much similar. The same could be said about the standard deviation. Something I learned from these descriptive statistics is that the schools that are located in better neighborhoods usually have higher scores. The schools in not so good neighborhoods tend to have lower scores."
   ]
  },
  {
   "cell_type": "markdown",
   "metadata": {},
   "source": [
    "# Section 3: Exploratary Data Visualization"
   ]
  },
  {
   "cell_type": "code",
   "execution_count": 93,
   "metadata": {},
   "outputs": [
    {
     "data": {
      "text/html": [
       "<div>\n",
       "<style scoped>\n",
       "    .dataframe tbody tr th:only-of-type {\n",
       "        vertical-align: middle;\n",
       "    }\n",
       "\n",
       "    .dataframe tbody tr th {\n",
       "        vertical-align: top;\n",
       "    }\n",
       "\n",
       "    .dataframe thead th {\n",
       "        text-align: right;\n",
       "    }\n",
       "</style>\n",
       "<table border=\"1\" class=\"dataframe\">\n",
       "  <thead>\n",
       "    <tr style=\"text-align: right;\">\n",
       "      <th></th>\n",
       "      <th>Community Area Number</th>\n",
       "      <th>Environment Score</th>\n",
       "      <th>Instruction Score</th>\n",
       "      <th>Safety Score</th>\n",
       "    </tr>\n",
       "  </thead>\n",
       "  <tbody>\n",
       "    <tr>\n",
       "      <th>0</th>\n",
       "      <td>30</td>\n",
       "      <td>41.0</td>\n",
       "      <td>43.0</td>\n",
       "      <td>40.0</td>\n",
       "    </tr>\n",
       "    <tr>\n",
       "      <th>1</th>\n",
       "      <td>19</td>\n",
       "      <td>37.0</td>\n",
       "      <td>41.0</td>\n",
       "      <td>54.0</td>\n",
       "    </tr>\n",
       "    <tr>\n",
       "      <th>2</th>\n",
       "      <td>4</td>\n",
       "      <td>53.0</td>\n",
       "      <td>51.0</td>\n",
       "      <td>70.0</td>\n",
       "    </tr>\n",
       "    <tr>\n",
       "      <th>3</th>\n",
       "      <td>23</td>\n",
       "      <td>49.0</td>\n",
       "      <td>50.0</td>\n",
       "      <td>42.0</td>\n",
       "    </tr>\n",
       "    <tr>\n",
       "      <th>4</th>\n",
       "      <td>67</td>\n",
       "      <td>51.0</td>\n",
       "      <td>54.0</td>\n",
       "      <td>35.0</td>\n",
       "    </tr>\n",
       "    <tr>\n",
       "      <th>...</th>\n",
       "      <td>...</td>\n",
       "      <td>...</td>\n",
       "      <td>...</td>\n",
       "      <td>...</td>\n",
       "    </tr>\n",
       "    <tr>\n",
       "      <th>561</th>\n",
       "      <td>68</td>\n",
       "      <td>55.0</td>\n",
       "      <td>53.0</td>\n",
       "      <td>45.0</td>\n",
       "    </tr>\n",
       "    <tr>\n",
       "      <th>562</th>\n",
       "      <td>48</td>\n",
       "      <td>63.0</td>\n",
       "      <td>58.0</td>\n",
       "      <td>68.0</td>\n",
       "    </tr>\n",
       "    <tr>\n",
       "      <th>563</th>\n",
       "      <td>23</td>\n",
       "      <td>48.0</td>\n",
       "      <td>43.0</td>\n",
       "      <td>40.0</td>\n",
       "    </tr>\n",
       "    <tr>\n",
       "      <th>564</th>\n",
       "      <td>30</td>\n",
       "      <td>66.0</td>\n",
       "      <td>65.0</td>\n",
       "      <td>58.0</td>\n",
       "    </tr>\n",
       "    <tr>\n",
       "      <th>565</th>\n",
       "      <td>30</td>\n",
       "      <td>31.0</td>\n",
       "      <td>29.0</td>\n",
       "      <td>39.0</td>\n",
       "    </tr>\n",
       "  </tbody>\n",
       "</table>\n",
       "<p>566 rows × 4 columns</p>\n",
       "</div>"
      ],
      "text/plain": [
       "     Community Area Number  Environment Score  Instruction Score  Safety Score\n",
       "0                       30               41.0               43.0          40.0\n",
       "1                       19               37.0               41.0          54.0\n",
       "2                        4               53.0               51.0          70.0\n",
       "3                       23               49.0               50.0          42.0\n",
       "4                       67               51.0               54.0          35.0\n",
       "..                     ...                ...                ...           ...\n",
       "561                     68               55.0               53.0          45.0\n",
       "562                     48               63.0               58.0          68.0\n",
       "563                     23               48.0               43.0          40.0\n",
       "564                     30               66.0               65.0          58.0\n",
       "565                     30               31.0               29.0          39.0\n",
       "\n",
       "[566 rows x 4 columns]"
      ]
     },
     "execution_count": 93,
     "metadata": {},
     "output_type": "execute_result"
    }
   ],
   "source": [
    "df.loc[:,['Community Area Number','Environment Score','Instruction Score','Safety Score']]"
   ]
  },
  {
   "cell_type": "code",
   "execution_count": 94,
   "metadata": {},
   "outputs": [
    {
     "data": {
      "image/png": "[encoded data removed]",
      "text/plain": [
       "<Figure size 800x600 with 1 Axes>"
      ]
     },
     "metadata": {},
     "output_type": "display_data"
    }
   ],
   "source": [
    "import matplotlib.pyplot as plt\n",
    "plt.figure(figsize=(8, 6))\n",
    "plt.hist(df['Environment Score'], bins=20, color='skyblue', edgecolor='black')\n",
    "plt.title('Environment Score', fontsize=14)\n",
    "plt.xlabel('Community Area Number', fontsize=12)\n",
    "plt.ylabel('Environment Score', fontsize=12)\n",
    "plt.show()\n"
   ]
  },
  {
   "cell_type": "code",
   "execution_count": 95,
   "metadata": {},
   "outputs": [
    {
     "data": {
      "image/png": "[encoded data removed]",
      "text/plain": [
       "<Figure size 800x600 with 1 Axes>"
      ]
     },
     "metadata": {},
     "output_type": "display_data"
    }
   ],
   "source": [
    "import matplotlib.pyplot as plt\n",
    "plt.figure(figsize=(8, 6))\n",
    "plt.hist(df['Instruction Score'], bins=20, color='skyblue', edgecolor='black')\n",
    "plt.title('Instruction Score', fontsize=14)\n",
    "plt.xlabel('Community Area Number', fontsize=12)\n",
    "plt.ylabel('Instruction Score', fontsize=12)\n",
    "plt.show()\n"
   ]
  },
  {
   "cell_type": "code",
   "execution_count": 96,
   "metadata": {},
   "outputs": [
    {
     "data": {
      "image/png": "[encoded data removed]",
      "text/plain": [
       "<Figure size 800x600 with 1 Axes>"
      ]
     },
     "metadata": {},
     "output_type": "display_data"
    }
   ],
   "source": [
    "import matplotlib.pyplot as plt\n",
    "plt.figure(figsize=(8, 6))\n",
    "plt.hist(df['Safety Score'], bins=20, color='skyblue', edgecolor='black')\n",
    "plt.title('Safety Score', fontsize=14)\n",
    "plt.xlabel('Community Area Number', fontsize=12)\n",
    "plt.ylabel('Safety Score', fontsize=12)\n",
    "plt.show()"
   ]
  },
  {
   "cell_type": "markdown",
   "metadata": {},
   "source": [
    "# Section 3: Analysis"
   ]
  },
  {
   "cell_type": "markdown",
   "metadata": {},
   "source": [
    "In my graphs I made my x-axis be the names of the different types of neightborhoods and for my y-axis I made the different types of safety, instruction, and environment scores. I did this three times with each graph having their own different data. I did this to show how a school can be affected based on the neighborhood that are located in.  "
   ]
  },
  {
   "cell_type": "markdown",
   "metadata": {},
   "source": [
    "# Section 4: Planning for Part II"
   ]
  },
  {
   "cell_type": "markdown",
   "metadata": {},
   "source": [
    "In this dataset I think that I proved that the worse a neighborhood in Chicago is then schools in that neighborhood are likely to not be as good as a school in a better neighborhood in Chicago. Through all the numbers and data I've seen that even if I found the mean and standard deviation of a unique row, I got similar numbers. This just means that the numbers where almost equal for the same school in three different columns. When I looked at the locations of these schools I saw that they were in a bad neighborhood, I found this very interesting. Something that I want to see in Part II of the project is seeing the outliers in the different types of neighborhood. What's making these schools have worse scores than the other schools and vise versa. Another thing that I want to possibly analyze is the column in my dataset that talks about college enrollment. I think that i'll be interesting to see how different schools vary in sending kids to college."
   ]
  },
  {
   "cell_type": "markdown",
   "metadata": {},
   "source": [
    "# Part II"
   ]
  },
  {
   "cell_type": "markdown",
   "metadata": {},
   "source": [
    "# Section 5: Data Science"
   ]
  },
  {
   "cell_type": "markdown",
   "metadata": {},
   "source": [
    "The question that I'll be answering throughout this project is figuring out the outliers in different types neighborhoods. Like I said before, I think that it's fairly interesting to see why some schools are doing way better or way worse than other schools in their neighborhood. Is there a reason for this? What's causing these outliers? I plan by figuring this out by making a dataframe where we could see most of the outliers in neighborhoods in every single data set, safety score, instruction score, and environmental score. After that I'll compare the numbers and then research why these numbers are the way that they are. I will also find the z-score of a particular community area and compare the instruction, environment, and safety score. I will be doing this for schools in the northern community areas and southern community areas."
   ]
  },
  {
   "cell_type": "markdown",
   "metadata": {},
   "source": [
    "### Northside Schools"
   ]
  },
  {
   "cell_type": "code",
   "execution_count": 97,
   "metadata": {},
   "outputs": [
    {
     "data": {
      "text/html": [
       "<div>\n",
       "<style scoped>\n",
       "    .dataframe tbody tr th:only-of-type {\n",
       "        vertical-align: middle;\n",
       "    }\n",
       "\n",
       "    .dataframe tbody tr th {\n",
       "        vertical-align: top;\n",
       "    }\n",
       "\n",
       "    .dataframe thead th {\n",
       "        text-align: right;\n",
       "    }\n",
       "</style>\n",
       "<table border=\"1\" class=\"dataframe\">\n",
       "  <thead>\n",
       "    <tr style=\"text-align: right;\">\n",
       "      <th></th>\n",
       "      <th>Name of School</th>\n",
       "      <th>Community Area Number</th>\n",
       "      <th>Community Area Name</th>\n",
       "      <th>Environment Score</th>\n",
       "      <th>Instruction Score</th>\n",
       "      <th>Safety Score</th>\n",
       "    </tr>\n",
       "  </thead>\n",
       "  <tbody>\n",
       "    <tr>\n",
       "      <th>62</th>\n",
       "      <td>George Armstrong International Studies Element...</td>\n",
       "      <td>2</td>\n",
       "      <td>WEST RIDGE</td>\n",
       "      <td>59.0</td>\n",
       "      <td>64.0</td>\n",
       "      <td>59.0</td>\n",
       "    </tr>\n",
       "    <tr>\n",
       "      <th>93</th>\n",
       "      <td>Stone Elementary Scholastic Academy</td>\n",
       "      <td>2</td>\n",
       "      <td>WEST RIDGE</td>\n",
       "      <td>55.0</td>\n",
       "      <td>43.0</td>\n",
       "      <td>78.0</td>\n",
       "    </tr>\n",
       "    <tr>\n",
       "      <th>182</th>\n",
       "      <td>Philip Rogers Elementary School</td>\n",
       "      <td>2</td>\n",
       "      <td>WEST RIDGE</td>\n",
       "      <td>68.0</td>\n",
       "      <td>62.0</td>\n",
       "      <td>81.0</td>\n",
       "    </tr>\n",
       "    <tr>\n",
       "      <th>183</th>\n",
       "      <td>Daniel Boone Elementary School</td>\n",
       "      <td>2</td>\n",
       "      <td>WEST RIDGE</td>\n",
       "      <td>47.0</td>\n",
       "      <td>48.0</td>\n",
       "      <td>52.0</td>\n",
       "    </tr>\n",
       "    <tr>\n",
       "      <th>210</th>\n",
       "      <td>Stephen Decatur Classical Elementary School</td>\n",
       "      <td>2</td>\n",
       "      <td>WEST RIDGE</td>\n",
       "      <td>99.0</td>\n",
       "      <td>99.0</td>\n",
       "      <td>99.0</td>\n",
       "    </tr>\n",
       "    <tr>\n",
       "      <th>249</th>\n",
       "      <td>West Ridge Elementary School</td>\n",
       "      <td>2</td>\n",
       "      <td>WEST RIDGE</td>\n",
       "      <td>41.0</td>\n",
       "      <td>28.0</td>\n",
       "      <td>67.0</td>\n",
       "    </tr>\n",
       "    <tr>\n",
       "      <th>291</th>\n",
       "      <td>Minnie Mars Jamieson Elementary School</td>\n",
       "      <td>2</td>\n",
       "      <td>WEST RIDGE</td>\n",
       "      <td>62.0</td>\n",
       "      <td>66.0</td>\n",
       "      <td>64.0</td>\n",
       "    </tr>\n",
       "    <tr>\n",
       "      <th>506</th>\n",
       "      <td>DeWitt Clinton Elementary School</td>\n",
       "      <td>2</td>\n",
       "      <td>WEST RIDGE</td>\n",
       "      <td>47.0</td>\n",
       "      <td>52.0</td>\n",
       "      <td>47.0</td>\n",
       "    </tr>\n",
       "    <tr>\n",
       "      <th>559</th>\n",
       "      <td>Stephen T Mather High School</td>\n",
       "      <td>2</td>\n",
       "      <td>WEST RIDGE</td>\n",
       "      <td>48.0</td>\n",
       "      <td>47.0</td>\n",
       "      <td>58.0</td>\n",
       "    </tr>\n",
       "  </tbody>\n",
       "</table>\n",
       "</div>"
      ],
      "text/plain": [
       "                                        Name of School  Community Area Number  \\\n",
       "62   George Armstrong International Studies Element...                      2   \n",
       "93                 Stone Elementary Scholastic Academy                      2   \n",
       "182                    Philip Rogers Elementary School                      2   \n",
       "183                     Daniel Boone Elementary School                      2   \n",
       "210        Stephen Decatur Classical Elementary School                      2   \n",
       "249                       West Ridge Elementary School                      2   \n",
       "291             Minnie Mars Jamieson Elementary School                      2   \n",
       "506                   DeWitt Clinton Elementary School                      2   \n",
       "559                       Stephen T Mather High School                      2   \n",
       "\n",
       "    Community Area Name  Environment Score  Instruction Score  Safety Score  \n",
       "62           WEST RIDGE               59.0               64.0          59.0  \n",
       "93           WEST RIDGE               55.0               43.0          78.0  \n",
       "182          WEST RIDGE               68.0               62.0          81.0  \n",
       "183          WEST RIDGE               47.0               48.0          52.0  \n",
       "210          WEST RIDGE               99.0               99.0          99.0  \n",
       "249          WEST RIDGE               41.0               28.0          67.0  \n",
       "291          WEST RIDGE               62.0               66.0          64.0  \n",
       "506          WEST RIDGE               47.0               52.0          47.0  \n",
       "559          WEST RIDGE               48.0               47.0          58.0  "
      ]
     },
     "execution_count": 97,
     "metadata": {},
     "output_type": "execute_result"
    }
   ],
   "source": [
    "Northside = df[df['Community Area Number'] == 2]\n",
    "Northside = Northside[['Name of School','Community Area Number','Community Area Name', 'Environment Score', 'Instruction Score', 'Safety Score']]\n",
    "Northside"
   ]
  },
  {
   "cell_type": "markdown",
   "metadata": {},
   "source": [
    "### Environmental Score"
   ]
  },
  {
   "cell_type": "code",
   "execution_count": 98,
   "metadata": {},
   "outputs": [
    {
     "data": {
      "text/plain": [
       "np.float64(58.44444444444444)"
      ]
     },
     "execution_count": 98,
     "metadata": {},
     "output_type": "execute_result"
    }
   ],
   "source": [
    "NEmean = Northside['Environment Score'].mean()\n",
    "NEmean"
   ]
  },
  {
   "cell_type": "code",
   "execution_count": 99,
   "metadata": {},
   "outputs": [
    {
     "data": {
      "text/plain": [
       "np.float64(17.450724276596024)"
      ]
     },
     "execution_count": 99,
     "metadata": {},
     "output_type": "execute_result"
    }
   ],
   "source": [
    "NEstd = Northside['Environment Score'].std()\n",
    "NEstd"
   ]
  },
  {
   "cell_type": "code",
   "execution_count": 100,
   "metadata": {},
   "outputs": [
    {
     "data": {
      "text/plain": [
       "62     0.031836\n",
       "93    -0.197381\n",
       "182    0.547574\n",
       "183   -0.655815\n",
       "210    2.324004\n",
       "249   -0.999640\n",
       "291    0.203748\n",
       "506   -0.655815\n",
       "559   -0.598511\n",
       "Name: Environment Score, dtype: float64"
      ]
     },
     "execution_count": 100,
     "metadata": {},
     "output_type": "execute_result"
    }
   ],
   "source": [
    "Z_Score_NorthsideE = (Northside['Environment Score'] - NEmean)/NEstd\n",
    "Z_Score_NorthsideE"
   ]
  },
  {
   "cell_type": "markdown",
   "metadata": {},
   "source": [
    "### Instruction Score"
   ]
  },
  {
   "cell_type": "code",
   "execution_count": 101,
   "metadata": {},
   "outputs": [
    {
     "data": {
      "text/plain": [
       "np.float64(56.55555555555556)"
      ]
     },
     "execution_count": 101,
     "metadata": {},
     "output_type": "execute_result"
    }
   ],
   "source": [
    "NImean = Northside['Instruction Score'].mean()\n",
    "NImean"
   ]
  },
  {
   "cell_type": "code",
   "execution_count": 102,
   "metadata": {},
   "outputs": [
    {
     "data": {
      "text/plain": [
       "np.float64(19.875305727907126)"
      ]
     },
     "execution_count": 102,
     "metadata": {},
     "output_type": "execute_result"
    }
   ],
   "source": [
    "NIstd = Northside['Instruction Score'].std()\n",
    "NIstd"
   ]
  },
  {
   "cell_type": "code",
   "execution_count": 103,
   "metadata": {},
   "outputs": [
    {
     "data": {
      "text/plain": [
       "62     0.374557\n",
       "93    -0.682030\n",
       "182    0.273930\n",
       "183   -0.430462\n",
       "210    2.135537\n",
       "249   -1.436735\n",
       "291    0.475185\n",
       "506   -0.229207\n",
       "559   -0.480775\n",
       "Name: Instruction Score, dtype: float64"
      ]
     },
     "execution_count": 103,
     "metadata": {},
     "output_type": "execute_result"
    }
   ],
   "source": [
    "Z_Score_NorthsideI = (Northside['Instruction Score'] - NImean)/NIstd\n",
    "Z_Score_NorthsideI"
   ]
  },
  {
   "cell_type": "markdown",
   "metadata": {},
   "source": [
    "### Safety Score"
   ]
  },
  {
   "cell_type": "code",
   "execution_count": 104,
   "metadata": {},
   "outputs": [
    {
     "data": {
      "text/plain": [
       "np.float64(67.22222222222223)"
      ]
     },
     "execution_count": 104,
     "metadata": {},
     "output_type": "execute_result"
    }
   ],
   "source": [
    "NSmean = Northside['Safety Score'].mean()\n",
    "NSmean"
   ]
  },
  {
   "cell_type": "code",
   "execution_count": 105,
   "metadata": {},
   "outputs": [
    {
     "data": {
      "text/plain": [
       "np.float64(16.277114131333125)"
      ]
     },
     "execution_count": 105,
     "metadata": {},
     "output_type": "execute_result"
    }
   ],
   "source": [
    "NSstd = Northside['Safety Score'].std()\n",
    "NSstd"
   ]
  },
  {
   "cell_type": "code",
   "execution_count": 132,
   "metadata": {},
   "outputs": [
    {
     "data": {
      "text/plain": [
       "62     0.150177\n",
       "93     1.317460\n",
       "182    1.501768\n",
       "183   -0.279875\n",
       "210    2.607615\n",
       "249    0.641664\n",
       "291    0.457357\n",
       "506   -0.587055\n",
       "559    0.088741\n",
       "Name: Safety Score, dtype: float64"
      ]
     },
     "execution_count": 132,
     "metadata": {},
     "output_type": "execute_result"
    }
   ],
   "source": [
    "Z_Score_NorthsideS = (Northside['Safety Score'] - NSmean)/NSstd\n",
    "Z_Score_NorthsideS"
   ]
  },
  {
   "cell_type": "markdown",
   "metadata": {},
   "source": [
    "### Southside Schools"
   ]
  },
  {
   "cell_type": "code",
   "execution_count": 117,
   "metadata": {},
   "outputs": [
    {
     "data": {
      "text/html": [
       "<div>\n",
       "<style scoped>\n",
       "    .dataframe tbody tr th:only-of-type {\n",
       "        vertical-align: middle;\n",
       "    }\n",
       "\n",
       "    .dataframe tbody tr th {\n",
       "        vertical-align: top;\n",
       "    }\n",
       "\n",
       "    .dataframe thead th {\n",
       "        text-align: right;\n",
       "    }\n",
       "</style>\n",
       "<table border=\"1\" class=\"dataframe\">\n",
       "  <thead>\n",
       "    <tr style=\"text-align: right;\">\n",
       "      <th></th>\n",
       "      <th>Name of School</th>\n",
       "      <th>Community Area Number</th>\n",
       "      <th>Community Area Name</th>\n",
       "      <th>Environment Score</th>\n",
       "      <th>Instruction Score</th>\n",
       "      <th>Safety Score</th>\n",
       "    </tr>\n",
       "  </thead>\n",
       "  <tbody>\n",
       "    <tr>\n",
       "      <th>44</th>\n",
       "      <td>Fairfield Elementary Academy</td>\n",
       "      <td>66</td>\n",
       "      <td>CHICAGO LAWN</td>\n",
       "      <td>41.0</td>\n",
       "      <td>34.0</td>\n",
       "      <td>31.0</td>\n",
       "    </tr>\n",
       "    <tr>\n",
       "      <th>169</th>\n",
       "      <td>John F Eberhart Elementary School</td>\n",
       "      <td>66</td>\n",
       "      <td>CHICAGO LAWN</td>\n",
       "      <td>33.0</td>\n",
       "      <td>34.0</td>\n",
       "      <td>42.0</td>\n",
       "    </tr>\n",
       "    <tr>\n",
       "      <th>206</th>\n",
       "      <td>Donald Morrill Math &amp; Science Elementary School</td>\n",
       "      <td>66</td>\n",
       "      <td>CHICAGO LAWN</td>\n",
       "      <td>32.0</td>\n",
       "      <td>39.0</td>\n",
       "      <td>28.0</td>\n",
       "    </tr>\n",
       "    <tr>\n",
       "      <th>315</th>\n",
       "      <td>Marquette Elementary School</td>\n",
       "      <td>66</td>\n",
       "      <td>CHICAGO LAWN</td>\n",
       "      <td>17.0</td>\n",
       "      <td>17.0</td>\n",
       "      <td>15.0</td>\n",
       "    </tr>\n",
       "    <tr>\n",
       "      <th>442</th>\n",
       "      <td>Tarkington School of Excellence Elementary School</td>\n",
       "      <td>66</td>\n",
       "      <td>CHICAGO LAWN</td>\n",
       "      <td>39.0</td>\n",
       "      <td>40.0</td>\n",
       "      <td>48.0</td>\n",
       "    </tr>\n",
       "    <tr>\n",
       "      <th>535</th>\n",
       "      <td>Francis M McKay Elementary School</td>\n",
       "      <td>66</td>\n",
       "      <td>CHICAGO LAWN</td>\n",
       "      <td>37.0</td>\n",
       "      <td>54.0</td>\n",
       "      <td>23.0</td>\n",
       "    </tr>\n",
       "    <tr>\n",
       "      <th>544</th>\n",
       "      <td>Claremont Academy Elementary School</td>\n",
       "      <td>66</td>\n",
       "      <td>CHICAGO LAWN</td>\n",
       "      <td>50.0</td>\n",
       "      <td>51.0</td>\n",
       "      <td>36.0</td>\n",
       "    </tr>\n",
       "  </tbody>\n",
       "</table>\n",
       "</div>"
      ],
      "text/plain": [
       "                                        Name of School  Community Area Number  \\\n",
       "44                        Fairfield Elementary Academy                     66   \n",
       "169                  John F Eberhart Elementary School                     66   \n",
       "206    Donald Morrill Math & Science Elementary School                     66   \n",
       "315                        Marquette Elementary School                     66   \n",
       "442  Tarkington School of Excellence Elementary School                     66   \n",
       "535                  Francis M McKay Elementary School                     66   \n",
       "544                Claremont Academy Elementary School                     66   \n",
       "\n",
       "    Community Area Name  Environment Score  Instruction Score  Safety Score  \n",
       "44         CHICAGO LAWN               41.0               34.0          31.0  \n",
       "169        CHICAGO LAWN               33.0               34.0          42.0  \n",
       "206        CHICAGO LAWN               32.0               39.0          28.0  \n",
       "315        CHICAGO LAWN               17.0               17.0          15.0  \n",
       "442        CHICAGO LAWN               39.0               40.0          48.0  \n",
       "535        CHICAGO LAWN               37.0               54.0          23.0  \n",
       "544        CHICAGO LAWN               50.0               51.0          36.0  "
      ]
     },
     "execution_count": 117,
     "metadata": {},
     "output_type": "execute_result"
    }
   ],
   "source": [
    "Southside = df[df['Community Area Number'] == 66]\n",
    "Southside = Southside[['Name of School','Community Area Number','Community Area Name', 'Environment Score', 'Instruction Score', 'Safety Score']]\n",
    "Southside"
   ]
  },
  {
   "cell_type": "markdown",
   "metadata": {},
   "source": [
    "### Environmental Score"
   ]
  },
  {
   "cell_type": "code",
   "execution_count": 123,
   "metadata": {},
   "outputs": [
    {
     "data": {
      "text/plain": [
       "np.float64(35.57142857142857)"
      ]
     },
     "execution_count": 123,
     "metadata": {},
     "output_type": "execute_result"
    }
   ],
   "source": [
    "SEmean = Southside['Environment Score'].mean()\n",
    "SEmean"
   ]
  },
  {
   "cell_type": "code",
   "execution_count": 122,
   "metadata": {},
   "outputs": [
    {
     "data": {
      "text/plain": [
       "np.float64(10.130106002359877)"
      ]
     },
     "execution_count": 122,
     "metadata": {},
     "output_type": "execute_result"
    }
   ],
   "source": [
    "SEstd = Southside['Environment Score'].std()\n",
    "SEstd"
   ]
  },
  {
   "cell_type": "code",
   "execution_count": 136,
   "metadata": {},
   "outputs": [
    {
     "data": {
      "text/plain": [
       "44     0.535885\n",
       "169   -0.253840\n",
       "206   -0.352556\n",
       "315   -1.833291\n",
       "442    0.338454\n",
       "535    0.141022\n",
       "544    1.424326\n",
       "Name: Environment Score, dtype: float64"
      ]
     },
     "execution_count": 136,
     "metadata": {},
     "output_type": "execute_result"
    }
   ],
   "source": [
    "Z_Score_SouthsideE = (Southside['Environment Score'] - SEmean)/SEstd\n",
    "Z_Score_SouthsideE"
   ]
  },
  {
   "cell_type": "markdown",
   "metadata": {},
   "source": [
    "### Instruction Score"
   ]
  },
  {
   "cell_type": "code",
   "execution_count": 128,
   "metadata": {},
   "outputs": [
    {
     "data": {
      "text/plain": [
       "np.float64(38.42857142857143)"
      ]
     },
     "execution_count": 128,
     "metadata": {},
     "output_type": "execute_result"
    }
   ],
   "source": [
    "SImean = Southside['Instruction Score'].mean()\n",
    "SImean"
   ]
  },
  {
   "cell_type": "code",
   "execution_count": 129,
   "metadata": {},
   "outputs": [
    {
     "data": {
      "text/plain": [
       "np.float64(12.259107401671391)"
      ]
     },
     "execution_count": 129,
     "metadata": {},
     "output_type": "execute_result"
    }
   ],
   "source": [
    "SIstd = Southside['Instruction Score'].std()\n",
    "SIstd"
   ]
  },
  {
   "cell_type": "code",
   "execution_count": 131,
   "metadata": {},
   "outputs": [
    {
     "data": {
      "text/plain": [
       "44    -0.361247\n",
       "169   -0.361247\n",
       "206    0.046613\n",
       "315   -1.747972\n",
       "442    0.128185\n",
       "535    1.270193\n",
       "544    1.025477\n",
       "Name: Instruction Score, dtype: float64"
      ]
     },
     "execution_count": 131,
     "metadata": {},
     "output_type": "execute_result"
    }
   ],
   "source": [
    "Z_Score_SouthsideI = (Southside['Instruction Score'] - SImean)/SIstd\n",
    "Z_Score_SouthsideI"
   ]
  },
  {
   "cell_type": "markdown",
   "metadata": {},
   "source": [
    "### Safety Score"
   ]
  },
  {
   "cell_type": "code",
   "execution_count": 133,
   "metadata": {},
   "outputs": [
    {
     "data": {
      "text/plain": [
       "np.float64(31.857142857142858)"
      ]
     },
     "execution_count": 133,
     "metadata": {},
     "output_type": "execute_result"
    }
   ],
   "source": [
    "SSmean = Southside['Safety Score'].mean()\n",
    "SSmean"
   ]
  },
  {
   "cell_type": "code",
   "execution_count": 134,
   "metadata": {},
   "outputs": [
    {
     "data": {
      "text/plain": [
       "np.float64(11.24616336695277)"
      ]
     },
     "execution_count": 134,
     "metadata": {},
     "output_type": "execute_result"
    }
   ],
   "source": [
    "SSstd = Southside['Safety Score'].std()\n",
    "SSstd"
   ]
  },
  {
   "cell_type": "code",
   "execution_count": 135,
   "metadata": {},
   "outputs": [
    {
     "data": {
      "text/plain": [
       "44    -0.076216\n",
       "169    0.901895\n",
       "206   -0.342974\n",
       "315   -1.498924\n",
       "442    1.435410\n",
       "535   -0.787570\n",
       "544    0.368380\n",
       "Name: Safety Score, dtype: float64"
      ]
     },
     "execution_count": 135,
     "metadata": {},
     "output_type": "execute_result"
    }
   ],
   "source": [
    "Z_Score_SouthsideS = (Southside['Safety Score'] - SSmean)/SSstd\n",
    "Z_Score_SouthsideS"
   ]
  },
  {
   "cell_type": "markdown",
   "metadata": {},
   "source": [
    "# Section 6: A Different Data Vizualization"
   ]
  },
  {
   "cell_type": "code",
   "execution_count": 111,
   "metadata": {},
   "outputs": [
    {
     "data": {
      "text/html": [
       "<div>\n",
       "<style scoped>\n",
       "    .dataframe tbody tr th:only-of-type {\n",
       "        vertical-align: middle;\n",
       "    }\n",
       "\n",
       "    .dataframe tbody tr th {\n",
       "        vertical-align: top;\n",
       "    }\n",
       "\n",
       "    .dataframe thead th {\n",
       "        text-align: right;\n",
       "    }\n",
       "</style>\n",
       "<table border=\"1\" class=\"dataframe\">\n",
       "  <thead>\n",
       "    <tr style=\"text-align: right;\">\n",
       "      <th></th>\n",
       "      <th>Community Area Number</th>\n",
       "      <th>Environment Score</th>\n",
       "      <th>Instruction Score</th>\n",
       "      <th>Safety Score</th>\n",
       "    </tr>\n",
       "  </thead>\n",
       "  <tbody>\n",
       "    <tr>\n",
       "      <th>0</th>\n",
       "      <td>30</td>\n",
       "      <td>41.0</td>\n",
       "      <td>43.0</td>\n",
       "      <td>40.0</td>\n",
       "    </tr>\n",
       "    <tr>\n",
       "      <th>1</th>\n",
       "      <td>19</td>\n",
       "      <td>37.0</td>\n",
       "      <td>41.0</td>\n",
       "      <td>54.0</td>\n",
       "    </tr>\n",
       "    <tr>\n",
       "      <th>2</th>\n",
       "      <td>4</td>\n",
       "      <td>53.0</td>\n",
       "      <td>51.0</td>\n",
       "      <td>70.0</td>\n",
       "    </tr>\n",
       "    <tr>\n",
       "      <th>3</th>\n",
       "      <td>23</td>\n",
       "      <td>49.0</td>\n",
       "      <td>50.0</td>\n",
       "      <td>42.0</td>\n",
       "    </tr>\n",
       "    <tr>\n",
       "      <th>4</th>\n",
       "      <td>67</td>\n",
       "      <td>51.0</td>\n",
       "      <td>54.0</td>\n",
       "      <td>35.0</td>\n",
       "    </tr>\n",
       "    <tr>\n",
       "      <th>...</th>\n",
       "      <td>...</td>\n",
       "      <td>...</td>\n",
       "      <td>...</td>\n",
       "      <td>...</td>\n",
       "    </tr>\n",
       "    <tr>\n",
       "      <th>561</th>\n",
       "      <td>68</td>\n",
       "      <td>55.0</td>\n",
       "      <td>53.0</td>\n",
       "      <td>45.0</td>\n",
       "    </tr>\n",
       "    <tr>\n",
       "      <th>562</th>\n",
       "      <td>48</td>\n",
       "      <td>63.0</td>\n",
       "      <td>58.0</td>\n",
       "      <td>68.0</td>\n",
       "    </tr>\n",
       "    <tr>\n",
       "      <th>563</th>\n",
       "      <td>23</td>\n",
       "      <td>48.0</td>\n",
       "      <td>43.0</td>\n",
       "      <td>40.0</td>\n",
       "    </tr>\n",
       "    <tr>\n",
       "      <th>564</th>\n",
       "      <td>30</td>\n",
       "      <td>66.0</td>\n",
       "      <td>65.0</td>\n",
       "      <td>58.0</td>\n",
       "    </tr>\n",
       "    <tr>\n",
       "      <th>565</th>\n",
       "      <td>30</td>\n",
       "      <td>31.0</td>\n",
       "      <td>29.0</td>\n",
       "      <td>39.0</td>\n",
       "    </tr>\n",
       "  </tbody>\n",
       "</table>\n",
       "<p>566 rows × 4 columns</p>\n",
       "</div>"
      ],
      "text/plain": [
       "     Community Area Number  Environment Score  Instruction Score  Safety Score\n",
       "0                       30               41.0               43.0          40.0\n",
       "1                       19               37.0               41.0          54.0\n",
       "2                        4               53.0               51.0          70.0\n",
       "3                       23               49.0               50.0          42.0\n",
       "4                       67               51.0               54.0          35.0\n",
       "..                     ...                ...                ...           ...\n",
       "561                     68               55.0               53.0          45.0\n",
       "562                     48               63.0               58.0          68.0\n",
       "563                     23               48.0               43.0          40.0\n",
       "564                     30               66.0               65.0          58.0\n",
       "565                     30               31.0               29.0          39.0\n",
       "\n",
       "[566 rows x 4 columns]"
      ]
     },
     "execution_count": 111,
     "metadata": {},
     "output_type": "execute_result"
    }
   ],
   "source": [
    "df.loc[:,['Community Area Number','Environment Score','Instruction Score','Safety Score']]"
   ]
  },
  {
   "cell_type": "markdown",
   "metadata": {},
   "source": [
    "##### Environment Score"
   ]
  },
  {
   "cell_type": "code",
   "execution_count": 112,
   "metadata": {},
   "outputs": [
    {
     "name": "stderr",
     "output_type": "stream",
     "text": [
      "/var/folders/kr/0w3dwnc159v1tshm6f1w18200000gp/T/ipykernel_14521/61602333.py:4: FutureWarning: \n",
      "\n",
      "Passing `palette` without assigning `hue` is deprecated and will be removed in v0.14.0. Assign the `x` variable to `hue` and set `legend=False` for the same effect.\n",
      "\n",
      "  sns.boxplot(data=df, x='Community Area Number', y='Environment Score', palette='coolwarm')\n"
     ]
    },
    {
     "data": {
      "image/png": "[encoded data removed]",
      "text/plain": [
       "<Figure size 1000x600 with 1 Axes>"
      ]
     },
     "metadata": {},
     "output_type": "display_data"
    }
   ],
   "source": [
    "import seaborn as sns\n",
    "import matplotlib.pyplot as plt\n",
    "plt.figure(figsize=(10, 6))\n",
    "sns.boxplot(data=df, x='Community Area Number', y='Environment Score', palette='coolwarm')\n",
    "plt.title(\"Environment Score\", fontsize=16)\n",
    "plt.xlabel(\"Community Area\", fontsize=14)\n",
    "plt.ylabel(\"Envrionment Score\", fontsize=14)\n",
    "plt.show()"
   ]
  },
  {
   "cell_type": "markdown",
   "metadata": {},
   "source": [
    "##### Safety Score"
   ]
  },
  {
   "cell_type": "code",
   "execution_count": 113,
   "metadata": {},
   "outputs": [
    {
     "name": "stderr",
     "output_type": "stream",
     "text": [
      "/var/folders/kr/0w3dwnc159v1tshm6f1w18200000gp/T/ipykernel_14521/1650583422.py:4: FutureWarning: \n",
      "\n",
      "Passing `palette` without assigning `hue` is deprecated and will be removed in v0.14.0. Assign the `x` variable to `hue` and set `legend=False` for the same effect.\n",
      "\n",
      "  sns.boxplot(data=df, x='Community Area Number', y='Safety Score', palette='coolwarm')\n"
     ]
    },
    {
     "data": {
      "image/png": "[encoded data removed]",
      "text/plain": [
       "<Figure size 1000x600 with 1 Axes>"
      ]
     },
     "metadata": {},
     "output_type": "display_data"
    }
   ],
   "source": [
    "import seaborn as sns\n",
    "import matplotlib.pyplot as plt\n",
    "plt.figure(figsize=(10, 6))\n",
    "sns.boxplot(data=df, x='Community Area Number', y='Safety Score', palette='coolwarm')\n",
    "plt.title(\"Safety Score\", fontsize=16)\n",
    "plt.xlabel(\"Community Area\", fontsize=14)\n",
    "plt.ylabel(\"Safety Score\", fontsize=14)\n",
    "plt.show()"
   ]
  },
  {
   "cell_type": "markdown",
   "metadata": {},
   "source": [
    "##### Instruction Score"
   ]
  },
  {
   "cell_type": "code",
   "execution_count": 114,
   "metadata": {},
   "outputs": [
    {
     "name": "stderr",
     "output_type": "stream",
     "text": [
      "/var/folders/kr/0w3dwnc159v1tshm6f1w18200000gp/T/ipykernel_14521/1141047865.py:4: FutureWarning: \n",
      "\n",
      "Passing `palette` without assigning `hue` is deprecated and will be removed in v0.14.0. Assign the `x` variable to `hue` and set `legend=False` for the same effect.\n",
      "\n",
      "  sns.boxplot(data=df, x='Community Area Number', y='Instruction Score', palette='coolwarm')\n"
     ]
    },
    {
     "data": {
      "image/png": "[encoded data removed]",
      "text/plain": [
       "<Figure size 1000x600 with 1 Axes>"
      ]
     },
     "metadata": {},
     "output_type": "display_data"
    }
   ],
   "source": [
    "import seaborn as sns\n",
    "import matplotlib.pyplot as plt\n",
    "plt.figure(figsize=(10, 6))\n",
    "sns.boxplot(data=df, x='Community Area Number', y='Instruction Score', palette='coolwarm')\n",
    "plt.title(\"Instruction Score\", fontsize=16)\n",
    "plt.xlabel(\"Community Area\", fontsize=14)\n",
    "plt.ylabel(\"Instruction Score\", fontsize=14)\n",
    "plt.show()"
   ]
  },
  {
   "cell_type": "markdown",
   "metadata": {},
   "source": [
    "#### Analysis"
   ]
  },
  {
   "cell_type": "markdown",
   "metadata": {},
   "source": [
    "In the graphs above we could see three different types of boxplots. One of them represent the environment score that schools in different community areas got. The other two plots do the same except they represent the safety and instruction score. As you could see in the graphs, there are certain outliers in some community areas all throughout the three graphs. In all the graphs you could also see the difference in the scores between some schools in the north side vs schools in the south schools. The north schools being on the left side of the graphs and the southern schools being the right side of the graphs. These graphs further prove my point that schools in better locations usually get higher scores. "
   ]
  },
  {
   "cell_type": "markdown",
   "metadata": {},
   "source": [
    "# Section 7: Overall Summary "
   ]
  },
  {
   "cell_type": "markdown",
   "metadata": {},
   "source": [
    "\n",
    "In this dataset I saw a comparison between the location of different schools and the different types of scores the schools were getting. From the numbers and new graphs my original hypothesis was right about southern schools having lower scores than northern schools. In my data science section I saw that both areas have an outlier and schools with pretty big z-scores. For example in one of the northern schools a school scored a z-score of 2.324004, 2.135537, 2.607615 meaning that it was outlier in every graph. The same thing happened in the southern schools except they had negative z-scores. The school ended up scoring z-values of -1.833291, -1.747972, -1.498924 which also means that it was an outlier in all three graphs. Something surprising that I found was another outlier in one of the southern schools of 1.435410. This was surprising in the sense that this school ended up only having such a big z-score in the Safety Score catagory. \n",
    "\n",
    "Through this data and analyzation I tried to research why these schools were getting such numbers. At first I researched the school Decatur Classical Elementary School, which was the school that was an outlier in the northern schools. Throughout the research I found out that the majority of the school is white and not from a low-income family. The opposite was seen in the schools from the southern area. The majority of the schools were non-white and over 90% of the schools came from low income families. These northern schools benefit from better resources and have a better environment to perform in. On the other hand the southern schools keep on facing systemic challenges from poverty and underfunding, which is hindering their ability to provide students with equal opportunities.\n"
   ]
  }
 ],
 "metadata": {
  "kernelspec": {
   "display_name": "Python 3",
   "language": "python",
   "name": "python3"
  },
  "language_info": {
   "codemirror_mode": {
    "name": "ipython",
    "version": 3
   },
   "file_extension": ".py",
   "mimetype": "text/x-python",
   "name": "python",
   "nbconvert_exporter": "python",
   "pygments_lexer": "ipython3",
   "version": "3.9.6"
  }
 },
 "nbformat": 4,
 "nbformat_minor": 2
}
